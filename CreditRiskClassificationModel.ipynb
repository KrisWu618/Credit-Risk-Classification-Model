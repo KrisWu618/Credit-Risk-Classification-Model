{
 "cells": [
  {
   "cell_type": "code",
   "execution_count": 132,
   "metadata": {
    "collapsed": true
   },
   "outputs": [],
   "source": [
    "import pandas as pd\n",
    "from sklearn.cluster import KMeans \n",
    "import matplotlib.pyplot as plt # Python defacto plotting library\n",
    "import seaborn as sns \n",
    "%matplotlib inline "
   ]
  },
  {
   "cell_type": "code",
   "execution_count": 2,
   "metadata": {
    "collapsed": false
   },
   "outputs": [
    {
     "data": {
      "text/html": [
       "<div>\n",
       "<table border=\"1\" class=\"dataframe\">\n",
       "  <thead>\n",
       "    <tr style=\"text-align: right;\">\n",
       "      <th></th>\n",
       "      <th>id</th>\n",
       "      <th>X1</th>\n",
       "      <th>X2</th>\n",
       "      <th>X3</th>\n",
       "      <th>X4</th>\n",
       "      <th>X5</th>\n",
       "      <th>X6</th>\n",
       "      <th>X7</th>\n",
       "      <th>X8</th>\n",
       "      <th>X9</th>\n",
       "      <th>...</th>\n",
       "      <th>X15</th>\n",
       "      <th>X16</th>\n",
       "      <th>X17</th>\n",
       "      <th>X18</th>\n",
       "      <th>X19</th>\n",
       "      <th>X20</th>\n",
       "      <th>X21</th>\n",
       "      <th>X22</th>\n",
       "      <th>X23</th>\n",
       "      <th>Y</th>\n",
       "    </tr>\n",
       "  </thead>\n",
       "  <tbody>\n",
       "    <tr>\n",
       "      <th>0</th>\n",
       "      <td>1</td>\n",
       "      <td>200000</td>\n",
       "      <td>2</td>\n",
       "      <td>3</td>\n",
       "      <td>1</td>\n",
       "      <td>53</td>\n",
       "      <td>0</td>\n",
       "      <td>0</td>\n",
       "      <td>0</td>\n",
       "      <td>0</td>\n",
       "      <td>...</td>\n",
       "      <td>133207</td>\n",
       "      <td>136159</td>\n",
       "      <td>138741</td>\n",
       "      <td>6500</td>\n",
       "      <td>5000</td>\n",
       "      <td>5000</td>\n",
       "      <td>5100</td>\n",
       "      <td>5000</td>\n",
       "      <td>5400</td>\n",
       "      <td>0</td>\n",
       "    </tr>\n",
       "    <tr>\n",
       "      <th>1</th>\n",
       "      <td>2</td>\n",
       "      <td>130000</td>\n",
       "      <td>2</td>\n",
       "      <td>3</td>\n",
       "      <td>2</td>\n",
       "      <td>39</td>\n",
       "      <td>0</td>\n",
       "      <td>0</td>\n",
       "      <td>0</td>\n",
       "      <td>2</td>\n",
       "      <td>...</td>\n",
       "      <td>130814</td>\n",
       "      <td>130758</td>\n",
       "      <td>123468</td>\n",
       "      <td>7500</td>\n",
       "      <td>10000</td>\n",
       "      <td>0</td>\n",
       "      <td>4500</td>\n",
       "      <td>4500</td>\n",
       "      <td>4179</td>\n",
       "      <td>0</td>\n",
       "    </tr>\n",
       "    <tr>\n",
       "      <th>2</th>\n",
       "      <td>3</td>\n",
       "      <td>350000</td>\n",
       "      <td>2</td>\n",
       "      <td>1</td>\n",
       "      <td>2</td>\n",
       "      <td>41</td>\n",
       "      <td>0</td>\n",
       "      <td>0</td>\n",
       "      <td>0</td>\n",
       "      <td>0</td>\n",
       "      <td>...</td>\n",
       "      <td>119947</td>\n",
       "      <td>117328</td>\n",
       "      <td>118400</td>\n",
       "      <td>6000</td>\n",
       "      <td>5900</td>\n",
       "      <td>5800</td>\n",
       "      <td>4100</td>\n",
       "      <td>4500</td>\n",
       "      <td>5000</td>\n",
       "      <td>0</td>\n",
       "    </tr>\n",
       "    <tr>\n",
       "      <th>3</th>\n",
       "      <td>4</td>\n",
       "      <td>240000</td>\n",
       "      <td>2</td>\n",
       "      <td>2</td>\n",
       "      <td>1</td>\n",
       "      <td>43</td>\n",
       "      <td>1</td>\n",
       "      <td>-2</td>\n",
       "      <td>-2</td>\n",
       "      <td>-1</td>\n",
       "      <td>...</td>\n",
       "      <td>12700</td>\n",
       "      <td>12500</td>\n",
       "      <td>26225</td>\n",
       "      <td>0</td>\n",
       "      <td>0</td>\n",
       "      <td>12700</td>\n",
       "      <td>0</td>\n",
       "      <td>13725</td>\n",
       "      <td>0</td>\n",
       "      <td>0</td>\n",
       "    </tr>\n",
       "    <tr>\n",
       "      <th>4</th>\n",
       "      <td>5</td>\n",
       "      <td>180000</td>\n",
       "      <td>1</td>\n",
       "      <td>2</td>\n",
       "      <td>2</td>\n",
       "      <td>28</td>\n",
       "      <td>-1</td>\n",
       "      <td>-1</td>\n",
       "      <td>-1</td>\n",
       "      <td>-1</td>\n",
       "      <td>...</td>\n",
       "      <td>332</td>\n",
       "      <td>416</td>\n",
       "      <td>416</td>\n",
       "      <td>0</td>\n",
       "      <td>416</td>\n",
       "      <td>332</td>\n",
       "      <td>500</td>\n",
       "      <td>3500</td>\n",
       "      <td>832</td>\n",
       "      <td>0</td>\n",
       "    </tr>\n",
       "  </tbody>\n",
       "</table>\n",
       "<p>5 rows × 25 columns</p>\n",
       "</div>"
      ],
      "text/plain": [
       "   id      X1  X2  X3  X4  X5  X6  X7  X8  X9 ...     X15     X16     X17  \\\n",
       "0   1  200000   2   3   1  53   0   0   0   0 ...  133207  136159  138741   \n",
       "1   2  130000   2   3   2  39   0   0   0   2 ...  130814  130758  123468   \n",
       "2   3  350000   2   1   2  41   0   0   0   0 ...  119947  117328  118400   \n",
       "3   4  240000   2   2   1  43   1  -2  -2  -1 ...   12700   12500   26225   \n",
       "4   5  180000   1   2   2  28  -1  -1  -1  -1 ...     332     416     416   \n",
       "\n",
       "    X18    X19    X20   X21    X22   X23  Y  \n",
       "0  6500   5000   5000  5100   5000  5400  0  \n",
       "1  7500  10000      0  4500   4500  4179  0  \n",
       "2  6000   5900   5800  4100   4500  5000  0  \n",
       "3     0      0  12700     0  13725     0  0  \n",
       "4     0    416    332   500   3500   832  0  \n",
       "\n",
       "[5 rows x 25 columns]"
      ]
     },
     "execution_count": 2,
     "metadata": {},
     "output_type": "execute_result"
    }
   ],
   "source": [
    "train = pd.read_csv('/Users/kubla/Documents/Kubla/Credit Risk/train.csv')\n",
    "test = pd.read_csv('/Users/kubla/Documents/Kubla/Credit Risk/test.csv')\n",
    "train.head()"
   ]
  },
  {
   "cell_type": "code",
   "execution_count": 3,
   "metadata": {
    "collapsed": false
   },
   "outputs": [
    {
     "data": {
      "text/html": [
       "<div>\n",
       "<table border=\"1\" class=\"dataframe\">\n",
       "  <thead>\n",
       "    <tr style=\"text-align: right;\">\n",
       "      <th></th>\n",
       "      <th>id</th>\n",
       "      <th>X1</th>\n",
       "      <th>X2</th>\n",
       "      <th>X3</th>\n",
       "      <th>X4</th>\n",
       "      <th>X5</th>\n",
       "      <th>X6</th>\n",
       "      <th>X7</th>\n",
       "      <th>X8</th>\n",
       "      <th>X9</th>\n",
       "      <th>...</th>\n",
       "      <th>X15</th>\n",
       "      <th>X16</th>\n",
       "      <th>X17</th>\n",
       "      <th>X18</th>\n",
       "      <th>X19</th>\n",
       "      <th>X20</th>\n",
       "      <th>X21</th>\n",
       "      <th>X22</th>\n",
       "      <th>X23</th>\n",
       "      <th>Y</th>\n",
       "    </tr>\n",
       "  </thead>\n",
       "  <tbody>\n",
       "    <tr>\n",
       "      <th>count</th>\n",
       "      <td>25000.000000</td>\n",
       "      <td>25000.000000</td>\n",
       "      <td>25000.000000</td>\n",
       "      <td>25000.000000</td>\n",
       "      <td>25000.000000</td>\n",
       "      <td>25000.000000</td>\n",
       "      <td>25000.000000</td>\n",
       "      <td>25000.000000</td>\n",
       "      <td>25000.000000</td>\n",
       "      <td>25000.0000</td>\n",
       "      <td>...</td>\n",
       "      <td>25000.000000</td>\n",
       "      <td>25000.000000</td>\n",
       "      <td>25000.000000</td>\n",
       "      <td>25000.000000</td>\n",
       "      <td>2.500000e+04</td>\n",
       "      <td>25000.000000</td>\n",
       "      <td>25000.000000</td>\n",
       "      <td>25000.000000</td>\n",
       "      <td>25000.000000</td>\n",
       "      <td>25000.000000</td>\n",
       "    </tr>\n",
       "    <tr>\n",
       "      <th>mean</th>\n",
       "      <td>12500.500000</td>\n",
       "      <td>167559.187200</td>\n",
       "      <td>1.606760</td>\n",
       "      <td>1.853320</td>\n",
       "      <td>1.553200</td>\n",
       "      <td>35.481640</td>\n",
       "      <td>-0.020000</td>\n",
       "      <td>-0.137880</td>\n",
       "      <td>-0.169760</td>\n",
       "      <td>-0.2238</td>\n",
       "      <td>...</td>\n",
       "      <td>43266.200000</td>\n",
       "      <td>40289.261640</td>\n",
       "      <td>38842.113240</td>\n",
       "      <td>5642.769880</td>\n",
       "      <td>5.975874e+03</td>\n",
       "      <td>5231.979040</td>\n",
       "      <td>4873.475160</td>\n",
       "      <td>4793.889240</td>\n",
       "      <td>5248.531440</td>\n",
       "      <td>0.221920</td>\n",
       "    </tr>\n",
       "    <tr>\n",
       "      <th>std</th>\n",
       "      <td>7217.022701</td>\n",
       "      <td>129634.881264</td>\n",
       "      <td>0.488479</td>\n",
       "      <td>0.790892</td>\n",
       "      <td>0.521594</td>\n",
       "      <td>9.228484</td>\n",
       "      <td>1.118915</td>\n",
       "      <td>1.192898</td>\n",
       "      <td>1.193968</td>\n",
       "      <td>1.1641</td>\n",
       "      <td>...</td>\n",
       "      <td>64561.637962</td>\n",
       "      <td>60950.000675</td>\n",
       "      <td>59567.841188</td>\n",
       "      <td>15745.370388</td>\n",
       "      <td>2.293476e+04</td>\n",
       "      <td>16331.189806</td>\n",
       "      <td>15649.697239</td>\n",
       "      <td>15143.116895</td>\n",
       "      <td>17972.259959</td>\n",
       "      <td>0.415546</td>\n",
       "    </tr>\n",
       "    <tr>\n",
       "      <th>min</th>\n",
       "      <td>1.000000</td>\n",
       "      <td>10000.000000</td>\n",
       "      <td>1.000000</td>\n",
       "      <td>0.000000</td>\n",
       "      <td>0.000000</td>\n",
       "      <td>21.000000</td>\n",
       "      <td>-2.000000</td>\n",
       "      <td>-2.000000</td>\n",
       "      <td>-2.000000</td>\n",
       "      <td>-2.0000</td>\n",
       "      <td>...</td>\n",
       "      <td>-170000.000000</td>\n",
       "      <td>-81334.000000</td>\n",
       "      <td>-339603.000000</td>\n",
       "      <td>0.000000</td>\n",
       "      <td>0.000000e+00</td>\n",
       "      <td>0.000000</td>\n",
       "      <td>0.000000</td>\n",
       "      <td>0.000000</td>\n",
       "      <td>0.000000</td>\n",
       "      <td>0.000000</td>\n",
       "    </tr>\n",
       "    <tr>\n",
       "      <th>25%</th>\n",
       "      <td>6250.750000</td>\n",
       "      <td>50000.000000</td>\n",
       "      <td>1.000000</td>\n",
       "      <td>1.000000</td>\n",
       "      <td>1.000000</td>\n",
       "      <td>28.000000</td>\n",
       "      <td>-1.000000</td>\n",
       "      <td>-1.000000</td>\n",
       "      <td>-1.000000</td>\n",
       "      <td>-1.0000</td>\n",
       "      <td>...</td>\n",
       "      <td>2307.000000</td>\n",
       "      <td>1740.000000</td>\n",
       "      <td>1247.750000</td>\n",
       "      <td>977.250000</td>\n",
       "      <td>8.360000e+02</td>\n",
       "      <td>390.000000</td>\n",
       "      <td>291.000000</td>\n",
       "      <td>263.250000</td>\n",
       "      <td>117.750000</td>\n",
       "      <td>0.000000</td>\n",
       "    </tr>\n",
       "    <tr>\n",
       "      <th>50%</th>\n",
       "      <td>12500.500000</td>\n",
       "      <td>140000.000000</td>\n",
       "      <td>2.000000</td>\n",
       "      <td>2.000000</td>\n",
       "      <td>2.000000</td>\n",
       "      <td>34.000000</td>\n",
       "      <td>0.000000</td>\n",
       "      <td>0.000000</td>\n",
       "      <td>0.000000</td>\n",
       "      <td>0.0000</td>\n",
       "      <td>...</td>\n",
       "      <td>18983.000000</td>\n",
       "      <td>18041.000000</td>\n",
       "      <td>17000.000000</td>\n",
       "      <td>2100.000000</td>\n",
       "      <td>2.008000e+03</td>\n",
       "      <td>1800.000000</td>\n",
       "      <td>1500.000000</td>\n",
       "      <td>1500.000000</td>\n",
       "      <td>1500.000000</td>\n",
       "      <td>0.000000</td>\n",
       "    </tr>\n",
       "    <tr>\n",
       "      <th>75%</th>\n",
       "      <td>18750.250000</td>\n",
       "      <td>240000.000000</td>\n",
       "      <td>2.000000</td>\n",
       "      <td>2.000000</td>\n",
       "      <td>2.000000</td>\n",
       "      <td>41.000000</td>\n",
       "      <td>0.000000</td>\n",
       "      <td>0.000000</td>\n",
       "      <td>0.000000</td>\n",
       "      <td>0.0000</td>\n",
       "      <td>...</td>\n",
       "      <td>53982.000000</td>\n",
       "      <td>49925.750000</td>\n",
       "      <td>49016.500000</td>\n",
       "      <td>5022.000000</td>\n",
       "      <td>5.000000e+03</td>\n",
       "      <td>4574.250000</td>\n",
       "      <td>4015.000000</td>\n",
       "      <td>4056.250000</td>\n",
       "      <td>4000.000000</td>\n",
       "      <td>0.000000</td>\n",
       "    </tr>\n",
       "    <tr>\n",
       "      <th>max</th>\n",
       "      <td>25000.000000</td>\n",
       "      <td>800000.000000</td>\n",
       "      <td>2.000000</td>\n",
       "      <td>6.000000</td>\n",
       "      <td>3.000000</td>\n",
       "      <td>79.000000</td>\n",
       "      <td>8.000000</td>\n",
       "      <td>8.000000</td>\n",
       "      <td>8.000000</td>\n",
       "      <td>8.0000</td>\n",
       "      <td>...</td>\n",
       "      <td>706864.000000</td>\n",
       "      <td>823540.000000</td>\n",
       "      <td>699944.000000</td>\n",
       "      <td>505000.000000</td>\n",
       "      <td>1.684259e+06</td>\n",
       "      <td>508229.000000</td>\n",
       "      <td>528897.000000</td>\n",
       "      <td>426529.000000</td>\n",
       "      <td>528666.000000</td>\n",
       "      <td>1.000000</td>\n",
       "    </tr>\n",
       "  </tbody>\n",
       "</table>\n",
       "<p>8 rows × 25 columns</p>\n",
       "</div>"
      ],
      "text/plain": [
       "                 id             X1            X2            X3            X4  \\\n",
       "count  25000.000000   25000.000000  25000.000000  25000.000000  25000.000000   \n",
       "mean   12500.500000  167559.187200      1.606760      1.853320      1.553200   \n",
       "std     7217.022701  129634.881264      0.488479      0.790892      0.521594   \n",
       "min        1.000000   10000.000000      1.000000      0.000000      0.000000   \n",
       "25%     6250.750000   50000.000000      1.000000      1.000000      1.000000   \n",
       "50%    12500.500000  140000.000000      2.000000      2.000000      2.000000   \n",
       "75%    18750.250000  240000.000000      2.000000      2.000000      2.000000   \n",
       "max    25000.000000  800000.000000      2.000000      6.000000      3.000000   \n",
       "\n",
       "                 X5            X6            X7            X8          X9  \\\n",
       "count  25000.000000  25000.000000  25000.000000  25000.000000  25000.0000   \n",
       "mean      35.481640     -0.020000     -0.137880     -0.169760     -0.2238   \n",
       "std        9.228484      1.118915      1.192898      1.193968      1.1641   \n",
       "min       21.000000     -2.000000     -2.000000     -2.000000     -2.0000   \n",
       "25%       28.000000     -1.000000     -1.000000     -1.000000     -1.0000   \n",
       "50%       34.000000      0.000000      0.000000      0.000000      0.0000   \n",
       "75%       41.000000      0.000000      0.000000      0.000000      0.0000   \n",
       "max       79.000000      8.000000      8.000000      8.000000      8.0000   \n",
       "\n",
       "           ...                 X15            X16            X17  \\\n",
       "count      ...        25000.000000   25000.000000   25000.000000   \n",
       "mean       ...        43266.200000   40289.261640   38842.113240   \n",
       "std        ...        64561.637962   60950.000675   59567.841188   \n",
       "min        ...      -170000.000000  -81334.000000 -339603.000000   \n",
       "25%        ...         2307.000000    1740.000000    1247.750000   \n",
       "50%        ...        18983.000000   18041.000000   17000.000000   \n",
       "75%        ...        53982.000000   49925.750000   49016.500000   \n",
       "max        ...       706864.000000  823540.000000  699944.000000   \n",
       "\n",
       "                 X18           X19            X20            X21  \\\n",
       "count   25000.000000  2.500000e+04   25000.000000   25000.000000   \n",
       "mean     5642.769880  5.975874e+03    5231.979040    4873.475160   \n",
       "std     15745.370388  2.293476e+04   16331.189806   15649.697239   \n",
       "min         0.000000  0.000000e+00       0.000000       0.000000   \n",
       "25%       977.250000  8.360000e+02     390.000000     291.000000   \n",
       "50%      2100.000000  2.008000e+03    1800.000000    1500.000000   \n",
       "75%      5022.000000  5.000000e+03    4574.250000    4015.000000   \n",
       "max    505000.000000  1.684259e+06  508229.000000  528897.000000   \n",
       "\n",
       "                 X22            X23             Y  \n",
       "count   25000.000000   25000.000000  25000.000000  \n",
       "mean     4793.889240    5248.531440      0.221920  \n",
       "std     15143.116895   17972.259959      0.415546  \n",
       "min         0.000000       0.000000      0.000000  \n",
       "25%       263.250000     117.750000      0.000000  \n",
       "50%      1500.000000    1500.000000      0.000000  \n",
       "75%      4056.250000    4000.000000      0.000000  \n",
       "max    426529.000000  528666.000000      1.000000  \n",
       "\n",
       "[8 rows x 25 columns]"
      ]
     },
     "execution_count": 3,
     "metadata": {},
     "output_type": "execute_result"
    }
   ],
   "source": [
    "train.describe()"
   ]
  },
  {
   "cell_type": "code",
   "execution_count": 23,
   "metadata": {
    "collapsed": false
   },
   "outputs": [
    {
     "data": {
      "text/plain": [
       "id     int64\n",
       "X1     int64\n",
       "X2     int64\n",
       "X3     int64\n",
       "X4     int64\n",
       "X5     int64\n",
       "X6     int64\n",
       "X7     int64\n",
       "X8     int64\n",
       "X9     int64\n",
       "X10    int64\n",
       "X11    int64\n",
       "X12    int64\n",
       "X13    int64\n",
       "X14    int64\n",
       "X15    int64\n",
       "X16    int64\n",
       "X17    int64\n",
       "X18    int64\n",
       "X19    int64\n",
       "X20    int64\n",
       "X21    int64\n",
       "X22    int64\n",
       "X23    int64\n",
       "Y      int64\n",
       "dtype: object"
      ]
     },
     "execution_count": 23,
     "metadata": {},
     "output_type": "execute_result"
    }
   ],
   "source": [
    "train.dtypes\n",
    "#train.X11.value_counts()"
   ]
  },
  {
   "cell_type": "markdown",
   "metadata": {},
   "source": [
    "### Check correlation of payment features against each other"
   ]
  },
  {
   "cell_type": "code",
   "execution_count": 8,
   "metadata": {
    "collapsed": false
   },
   "outputs": [
    {
     "data": {
      "text/plain": [
       "<matplotlib.axes._subplots.AxesSubplot at 0x1162d7d30>"
      ]
     },
     "execution_count": 8,
     "metadata": {},
     "output_type": "execute_result"
    },
    {
     "data": {
      "image/png": "[encoded data removed]",
      "text/plain": [
       "<matplotlib.figure.Figure at 0x116517588>"
      ]
     },
     "metadata": {},
     "output_type": "display_data"
    }
   ],
   "source": [
    "# df = train.drop(train.columns[[0, 2, 3, 4]], axis=1) \n",
    "plt.title('Pearson Correlation of Payment Features')\n",
    "sns.heatmap(train.corr(),linewidths=0.25,vmax=1.0, square=True, cmap=\"YlGnBu\", linecolor='black')"
   ]
  },
  {
   "cell_type": "markdown",
   "metadata": {},
   "source": [
    "### Recode \"Age\" as categorical data: < 25 yrs, 25 - 40 yrs, 40 - 50 yrs, 50+ yrs "
   ]
  },
  {
   "cell_type": "code",
   "execution_count": 24,
   "metadata": {
    "collapsed": false
   },
   "outputs": [
    {
     "data": {
      "text/html": [
       "<div>\n",
       "<table border=\"1\" class=\"dataframe\">\n",
       "  <thead>\n",
       "    <tr style=\"text-align: right;\">\n",
       "      <th></th>\n",
       "      <th>Y</th>\n",
       "    </tr>\n",
       "    <tr>\n",
       "      <th>X5_Bin</th>\n",
       "      <th></th>\n",
       "    </tr>\n",
       "  </thead>\n",
       "  <tbody>\n",
       "    <tr>\n",
       "      <th>&lt;25</th>\n",
       "      <td>0.268519</td>\n",
       "    </tr>\n",
       "    <tr>\n",
       "      <th>25-35</th>\n",
       "      <td>0.198330</td>\n",
       "    </tr>\n",
       "    <tr>\n",
       "      <th>35-45</th>\n",
       "      <td>0.218701</td>\n",
       "    </tr>\n",
       "    <tr>\n",
       "      <th>50+</th>\n",
       "      <td>0.254155</td>\n",
       "    </tr>\n",
       "  </tbody>\n",
       "</table>\n",
       "</div>"
      ],
      "text/plain": [
       "               Y\n",
       "X5_Bin          \n",
       "<25     0.268519\n",
       "25-35   0.198330\n",
       "35-45   0.218701\n",
       "50+     0.254155"
      ]
     },
     "execution_count": 24,
     "metadata": {},
     "output_type": "execute_result"
    }
   ],
   "source": [
    "#Binning:\n",
    "def binning(col, cut_points, labels=None):\n",
    "  #Define min and max values:\n",
    "  minval = col.min()\n",
    "  maxval = col.max()\n",
    "\n",
    "  #create list by adding min and max to cut_points\n",
    "  break_points = [minval] + cut_points + [maxval]\n",
    "\n",
    "  #if no labels provided, use default labels 0 ... (n-1)\n",
    "  if not labels:\n",
    "    labels = range(len(cut_points)+1)\n",
    "\n",
    "  #Binning using cut function of pandas\n",
    "  colBin = pd.cut(col,bins=break_points,labels=labels,include_lowest=True)\n",
    "  return colBin\n",
    "\n",
    "df = train.copy()\n",
    "cut_points = [25,35,45]\n",
    "labels = [\"<25\",\"25-35\",\"35-45\",\"50+\"]\n",
    "df[\"X5_Bin\"] = binning(df[\"X5\"], cut_points, labels)\n",
    "test[\"X5_Bin\"] = binning(test[\"X5\"], cut_points, labels)\n",
    "#pd.value_counts(df[\"X5_Bin\"], sort=False)\n",
    "df[['X5_Bin','Y']].groupby('X5_Bin').mean()"
   ]
  },
  {
   "cell_type": "code",
   "execution_count": 25,
   "metadata": {
    "collapsed": false
   },
   "outputs": [
    {
     "data": {
      "text/plain": [
       "X5_Bin\n",
       "<25       3240\n",
       "25-35    10780\n",
       "35-45     7069\n",
       "50+       3911\n",
       "dtype: int64"
      ]
     },
     "execution_count": 25,
     "metadata": {},
     "output_type": "execute_result"
    }
   ],
   "source": [
    "df[['X5_Bin','Y']].groupby('X5_Bin').size()"
   ]
  },
  {
   "cell_type": "code",
   "execution_count": 26,
   "metadata": {
    "collapsed": false
   },
   "outputs": [
    {
     "data": {
      "text/plain": [
       "Index(['id', 'X1', 'X2', 'X3', 'X4', 'X5', 'X6', 'X7', 'X8', 'X9', 'X10',\n",
       "       'X11', 'X12', 'X13', 'X14', 'X15', 'X16', 'X17', 'X18', 'X19', 'X20',\n",
       "       'X21', 'X22', 'X23', 'Y', 'X5_Bin'],\n",
       "      dtype='object')"
      ]
     },
     "execution_count": 26,
     "metadata": {},
     "output_type": "execute_result"
    }
   ],
   "source": [
    "df.columns"
   ]
  },
  {
   "cell_type": "code",
   "execution_count": 28,
   "metadata": {
    "collapsed": false
   },
   "outputs": [],
   "source": [
    "df[df.columns[[2, 3, 4, 25]]] = df[df.columns[[2, 3, 4, 25]]].apply(lambda x: x.astype('category'))\n",
    "test[test.columns[[2, 3, 4, 24]]] = test[test.columns[[2, 3, 4, 24]]].apply(lambda x: x.astype('category'))"
   ]
  },
  {
   "cell_type": "code",
   "execution_count": 29,
   "metadata": {
    "collapsed": false
   },
   "outputs": [
    {
     "data": {
      "text/plain": [
       "0    0.77808\n",
       "1    0.22192\n",
       "Name: Y, dtype: float64"
      ]
     },
     "execution_count": 29,
     "metadata": {},
     "output_type": "execute_result"
    }
   ],
   "source": [
    "# check percentage of Y\n",
    "df.Y.value_counts()/df.shape[0]"
   ]
  },
  {
   "cell_type": "markdown",
   "metadata": {},
   "source": [
    "### Change categorical data into dummy variable data"
   ]
  },
  {
   "cell_type": "code",
   "execution_count": 30,
   "metadata": {
    "collapsed": false
   },
   "outputs": [],
   "source": [
    "df = pd.get_dummies(df,columns=df.columns[[2, 3, 4, 25]])\n",
    "test = pd.get_dummies(test,columns=test.columns[[2, 3, 4, 24]])"
   ]
  },
  {
   "cell_type": "code",
   "execution_count": 36,
   "metadata": {
    "collapsed": false
   },
   "outputs": [
    {
     "data": {
      "text/plain": [
       "Index(['id', 'X1', 'X5', 'X6', 'X7', 'X8', 'X9', 'X10', 'X11', 'X12', 'X13',\n",
       "       'X14', 'X15', 'X16', 'X17', 'X18', 'X19', 'X20', 'X21', 'X22', 'X23',\n",
       "       'Y', 'X2_1', 'X2_2', 'X3_0', 'X3_1', 'X3_2', 'X3_3', 'X3_4', 'X3_5',\n",
       "       'X3_6', 'X4_0', 'X4_1', 'X4_2', 'X4_3', 'X5_Bin_<25', 'X5_Bin_25-35',\n",
       "       'X5_Bin_35-45', 'X5_Bin_50+'],\n",
       "      dtype='object')"
      ]
     },
     "execution_count": 36,
     "metadata": {},
     "output_type": "execute_result"
    }
   ],
   "source": [
    "df.columns"
   ]
  },
  {
   "cell_type": "code",
   "execution_count": 310,
   "metadata": {
    "collapsed": false
   },
   "outputs": [],
   "source": [
    "#df = df.drop(df.columns[[0,3,4,5,6,7,10,11,12,13,14]], axis=1)\n",
    "#df.columns"
   ]
  },
  {
   "cell_type": "markdown",
   "metadata": {},
   "source": [
    "### Normalization for continuous variables"
   ]
  },
  {
   "cell_type": "code",
   "execution_count": 37,
   "metadata": {
    "collapsed": false
   },
   "outputs": [],
   "source": [
    "from sklearn import preprocessing\n",
    "#df[['X18','X19','X20','X21','X22','X23']] = preprocessing.scale(df[['X18','X19','X20','X21','X22','X23']])\n",
    "df[['X1','X12','X13','X14','X15','X16','X17','X18','X19','X20','X21','X22','X23']] = preprocessing.scale(df[['X1','X12','X13','X14','X15','X16','X17','X18','X19','X20','X21','X22','X23']])\n",
    "df = df.drop(df.columns[[0,2]], axis = 1)\n",
    "\n",
    "test[['X1','X12','X13','X14','X15','X16','X17','X18','X19','X20','X21','X22','X23']] = preprocessing.scale(test[['X1','X12','X13','X14','X15','X16','X17','X18','X19','X20','X21','X22','X23']])\n",
    "test = test.drop(test.columns[[0,2]], axis = 1)"
   ]
  },
  {
   "cell_type": "markdown",
   "metadata": {},
   "source": [
    "## Binary Classification Models"
   ]
  },
  {
   "cell_type": "code",
   "execution_count": 70,
   "metadata": {
    "collapsed": false
   },
   "outputs": [],
   "source": [
    "from sklearn import linear_model\n",
    "from sklearn import metrics\n",
    "from sklearn import ensemble\n",
    "from sklearn.preprocessing import scale, StandardScaler, Imputer, PolynomialFeatures\n",
    "from sklearn.ensemble import RandomForestClassifier, VotingClassifier, AdaBoostClassifier\n",
    "from sklearn.metrics import roc_auc_score\n",
    "from sklearn.model_selection import train_test_split, GridSearchCV\n",
    "from sklearn import svm"
   ]
  },
  {
   "cell_type": "code",
   "execution_count": 118,
   "metadata": {
    "collapsed": false
   },
   "outputs": [],
   "source": [
    "def search_model(x_train, y_train, est, param_grid, n_jobs = -1, cv = 10, refit=False):\n",
    "##Grid Search for the best model\n",
    "    model = GridSearchCV(estimator = est,\n",
    "                         param_grid = param_grid,\n",
    "                         scoring = 'roc_auc',\n",
    "                         #verbose = 10,\n",
    "                         n_jobs = n_jobs,\n",
    "                         iid = True,\n",
    "                         refit = refit,\n",
    "                         cv = cv)\n",
    "    # Fit Grid Search Model\n",
    "    model.fit(x_train, y_train)\n",
    "    print(\"Best score: %0.3f\" % model.best_score_)\n",
    "    print(\"Best parameters set:\", model.best_params_)\n",
    "    #print(\"Scores:\", model.grid_scores_)   \n",
    "    #print('Best score: {}'.format(model.best_score_))\n",
    "    #print('Best parameters: {}'.format(model.best_params_))\n",
    "    return model"
   ]
  },
  {
   "cell_type": "code",
   "execution_count": 39,
   "metadata": {
    "collapsed": false
   },
   "outputs": [],
   "source": [
    "X_train, X_test, y_train, y_test = train_test_split(df.drop(df.columns[19], axis=1), df.Y, test_size=0.30, random_state=42)\n",
    "weights = {0:1, 1:3}"
   ]
  },
  {
   "cell_type": "markdown",
   "metadata": {},
   "source": [
    "## Use Random Forest model as baseline model"
   ]
  },
  {
   "cell_type": "code",
   "execution_count": 50,
   "metadata": {
    "collapsed": false
   },
   "outputs": [
    {
     "name": "stdout",
     "output_type": "stream",
     "text": [
      "             precision    recall  f1-score   support\n",
      "\n",
      "          0       0.83      0.94      0.88      5844\n",
      "          1       0.62      0.33      0.43      1656\n",
      "\n",
      "avg / total       0.79      0.81      0.78      7500\n",
      "\n"
     ]
    }
   ],
   "source": [
    "rf = RandomForestClassifier()\n",
    "rf = rf.fit(X_train, y_train)\n",
    "y_pred = rf.predict(X_test)\n",
    "print(metrics.classification_report(y_test, y_pred))"
   ]
  },
  {
   "cell_type": "markdown",
   "metadata": {},
   "source": [
    "## Logistic Regression with Ridge"
   ]
  },
  {
   "cell_type": "code",
   "execution_count": 95,
   "metadata": {
    "collapsed": false
   },
   "outputs": [
    {
     "name": "stdout",
     "output_type": "stream",
     "text": [
      "Best score: 0.719\n",
      "Best parameters set: {'C': 5}\n"
     ]
    }
   ],
   "source": [
    "import numpy as np\n",
    "np.random.seed(1234)\n",
    "weights = {0:1, 1:3}\n",
    "param_grid = {'C' : [0.001, 0.01, 0.1, 1, 5, 10, 100, 1000]}\n",
    "log_ridge = linear_model.LogisticRegression(class_weight = weights, penalty='l2')\n",
    "model_ridge = search_model(X_train, y_train, est = log_fit, param_grid= param_grid)"
   ]
  },
  {
   "cell_type": "markdown",
   "metadata": {},
   "source": [
    "## Logistic regression with Lasso"
   ]
  },
  {
   "cell_type": "code",
   "execution_count": 110,
   "metadata": {
    "collapsed": false
   },
   "outputs": [
    {
     "name": "stdout",
     "output_type": "stream",
     "text": [
      "Best score: 0.7190839323259411\n",
      "Best parameters: {'C': 5}\n"
     ]
    }
   ],
   "source": [
    "import numpy as np\n",
    "np.random.seed(1234)\n",
    "weights = {0:1, 1:5}\n",
    "param_grid = {'C' : [0.001, 0.01, 0.1, 1, 5, 10, 100, 1000]}\n",
    "log_lasso = linear_model.LogisticRegression(class_weight = weights, penalty='l1')\n",
    "model_lasso = search_model(X_train, y_train, est = log_fit, param_grid= param_grid)"
   ]
  },
  {
   "cell_type": "code",
   "execution_count": 69,
   "metadata": {
    "collapsed": true
   },
   "outputs": [],
   "source": [
    "#log_fit.fit(X_train, y_train)\n",
    "#y_pred = log_fit.predict(X_test)\n",
    "#fpr, tpr, thresholds = metrics.roc_curve(y_test, y_pred, pos_label=1)\n",
    "#metrics.auc(fpr, tpr)"
   ]
  },
  {
   "cell_type": "markdown",
   "metadata": {},
   "source": [
    "## SVM"
   ]
  },
  {
   "cell_type": "code",
   "execution_count": 168,
   "metadata": {
    "collapsed": false
   },
   "outputs": [
    {
     "name": "stdout",
     "output_type": "stream",
     "text": [
      "Best score: 0.758\n",
      "Best parameters set: {'random_state': 1234, 'C': 1}\n"
     ]
    }
   ],
   "source": [
    "from sklearn import svm\n",
    "param_grid = {'C' : [1,2,5,10],\n",
    "              'random_state' : [1234]}\n",
    "svc = svm.SVC(probability=True, class_weight = weights)\n",
    "model_svc = search_model(X_train, y_train, est = svc, param_grid= param_grid, cv=5)"
   ]
  },
  {
   "cell_type": "markdown",
   "metadata": {},
   "source": [
    "## Random Forest"
   ]
  },
  {
   "cell_type": "code",
   "execution_count": 169,
   "metadata": {
    "collapsed": false
   },
   "outputs": [
    {
     "name": "stdout",
     "output_type": "stream",
     "text": [
      "Best score: 0.779\n",
      "Best parameters set: {'min_samples_leaf': 30, 'n_estimators': 500, 'criterion': 'entropy'}\n"
     ]
    }
   ],
   "source": [
    "np.random.seed(1234)\n",
    "param_grid = {'min_samples_leaf' : [5, 10, 16, 20, 25, 30],\n",
    "              'n_estimators':[50, 100, 300, 500, 700, 1000],\n",
    "              'criterion':['gini', 'entropy']}\n",
    "#rf = search_model(RandomForestClassifier(), X_train, y_train, param_grid)\n",
    "model_rf = search_model(X_train, y_train, est = RandomForestClassifier(), param_grid = param_grid)"
   ]
  },
  {
   "cell_type": "markdown",
   "metadata": {},
   "source": [
    "## k-nearest neighbors"
   ]
  },
  {
   "cell_type": "code",
   "execution_count": 166,
   "metadata": {
    "collapsed": false
   },
   "outputs": [
    {
     "name": "stdout",
     "output_type": "stream",
     "text": [
      "Best score: 0.754\n",
      "Best parameters set: {'n_neighbors': 100}\n"
     ]
    }
   ],
   "source": [
    "from sklearn.neighbors import KNeighborsClassifier\n",
    "k = np.array([1,5,10,20,50,100])\n",
    "param_grid = {'n_neighbors': k}\n",
    "knn = KNeighborsClassifier(weights = 'uniform', n_jobs = -1)\n",
    "model_knn = search_model(X_train, y_train, est = knn, param_grid= param_grid, cv = 5)"
   ]
  },
  {
   "cell_type": "markdown",
   "metadata": {},
   "source": [
    "# Voting Classifier"
   ]
  },
  {
   "cell_type": "code",
   "execution_count": 175,
   "metadata": {
    "collapsed": false
   },
   "outputs": [
    {
     "name": "stdout",
     "output_type": "stream",
     "text": [
      "Accuracy: 0.41 (+/- 0.00) [Logistic regression with ridge]\n",
      "Accuracy: 0.41 (+/- 0.00) [Logistic regression with ridge]\n",
      "Accuracy: 0.46 (+/- 0.01) [Random_Forest]\n",
      "Accuracy: 0.39 (+/- 0.02) [KNN]\n",
      "Accuracy: 0.49 (+/- 0.00) [SVM]\n"
     ]
    }
   ],
   "source": [
    "from sklearn.ensemble import VotingClassifier\n",
    "from sklearn.model_selection import cross_val_score\n",
    "model_ridge = linear_model.LogisticRegression(C = 5, class_weight = weights, penalty='l2')\n",
    "model_lasso = linear_model.LogisticRegression(C = 5,class_weight = weights, penalty='l1')\n",
    "model_rf = RandomForestClassifier(min_samples_leaf = 30,n_estimators = 500, random_state = 1234, criterion = 'entropy')\n",
    "model_knn = KNeighborsClassifier(n_neighbors = 100)\n",
    "model_svm = svm.SVC(C = 1, probability=True, class_weight = weights, random_state = 1234)\n",
    "\n",
    "eclf = VotingClassifier(estimators=[('Logistic regression with ridge', model_ridge),\n",
    "                                    ('Logistic regression with ridge', model_lasso),\n",
    "                                    ('Random_Forest', model_rf),\n",
    "                                    ('KNN', model_knn), \n",
    "                                    ('SVM', model_svm)], \n",
    "                        voting='hard')\n",
    "\n",
    "for clf, label in zip([model_ridge, model_lasso, model_rf, model_knn, model_svm], \n",
    "                      ['Logistic regression with ridge', 'Logistic regression with ridge', 'Random_Forest', 'KNN', 'SVM']):\n",
    "    scores = cross_val_score(clf, X_train, y_train, cv=5, scoring='f1')\n",
    "    print(\"Accuracy: %0.2f (+/- %0.2f) [%s]\" % (scores.mean(), scores.std(), label))"
   ]
  },
  {
   "cell_type": "code",
   "execution_count": null,
   "metadata": {
    "collapsed": true
   },
   "outputs": [],
   "source": []
  },
  {
   "cell_type": "code",
   "execution_count": null,
   "metadata": {
    "collapsed": false
   },
   "outputs": [],
   "source": []
  },
  {
   "cell_type": "code",
   "execution_count": null,
   "metadata": {
    "collapsed": true
   },
   "outputs": [],
   "source": []
  }
 ],
 "metadata": {
  "anaconda-cloud": {},
  "kernelspec": {
   "display_name": "Python [conda root]",
   "language": "python",
   "name": "conda-root-py"
  },
  "language_info": {
   "codemirror_mode": {
    "name": "ipython",
    "version": 3
   },
   "file_extension": ".py",
   "mimetype": "text/x-python",
   "name": "python",
   "nbconvert_exporter": "python",
   "pygments_lexer": "ipython3",
   "version": "3.5.2"
  }
 },
 "nbformat": 4,
 "nbformat_minor": 1
}
